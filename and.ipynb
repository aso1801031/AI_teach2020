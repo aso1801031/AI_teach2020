{
  "nbformat": 4,
  "nbformat_minor": 0,
  "metadata": {
    "colab": {
      "name": "and.ipynb",
      "provenance": [],
      "collapsed_sections": [],
      "authorship_tag": "ABX9TyOXl0JvW09PfXEsmLXe4Min",
      "include_colab_link": true
    },
    "kernelspec": {
      "name": "python3",
      "display_name": "Python 3"
    }
  },
  "cells": [
    {
      "cell_type": "markdown",
      "metadata": {
        "id": "view-in-github",
        "colab_type": "text"
      },
      "source": [
        "<a href=\"https://colab.research.google.com/github/aso1801031/AI_teach2020/blob/master/and.ipynb\" target=\"_parent\"><img src=\"https://colab.research.google.com/assets/colab-badge.svg\" alt=\"Open In Colab\"/></a>"
      ]
    },
    {
      "cell_type": "markdown",
      "metadata": {
        "id": "Qjo3evFmrYzN"
      },
      "source": [
        "###AND演算をモデルに学ばせる（LinearSVC）"
      ]
    },
    {
      "cell_type": "code",
      "metadata": {
        "id": "A1gvIobnv01L"
      },
      "source": [
        "from sklearn.svm import  LinearSVC #線形SVCのオブジェクト\n",
        "from sklearn.metrics import accuracy_score #結果を評価するためのオブフェクト"
      ],
      "execution_count": null,
      "outputs": []
    },
    {
      "cell_type": "markdown",
      "metadata": {
        "id": "_BOKLYWIrlhP"
      },
      "source": [
        "###学習のためのデータを用意する"
      ]
    },
    {
      "cell_type": "code",
      "metadata": {
        "id": "iBhpjRqmr3ew"
      },
      "source": [
        "#　入力値を表すデータ\n",
        "# 入力X,入力Y\n",
        "learn_data = [[0,0],[1,0],[0,1],[1,1]]\n",
        "#　　（XとYのand）結果\n",
        "learn_label = [0,0,0,1]\n"
      ],
      "execution_count": null,
      "outputs": []
    },
    {
      "cell_type": "markdown",
      "metadata": {
        "id": "yP9kXL5stGdw"
      },
      "source": [
        "###アルゴリズムのインスタンスを生成"
      ]
    },
    {
      "cell_type": "code",
      "metadata": {
        "id": "c3h6WAJWtKrF"
      },
      "source": [
        "### 線形SVCのインスタンスを生成（＝モデル）\n",
        "clf = LinearSVC()"
      ],
      "execution_count": null,
      "outputs": []
    },
    {
      "cell_type": "markdown",
      "metadata": {
        "id": "PTzsw4DftdRL"
      },
      "source": [
        "###モデルに学習させる（fitメソッド）"
      ]
    },
    {
      "cell_type": "code",
      "metadata": {
        "id": "oSyuzW3ctiut",
        "outputId": "50c6542a-a00f-476c-fed2-a874358a913a",
        "colab": {
          "base_uri": "https://localhost:8080/",
          "height": 85
        }
      },
      "source": [
        "clf.fit(learn_data,learn_label)"
      ],
      "execution_count": null,
      "outputs": [
        {
          "output_type": "execute_result",
          "data": {
            "text/plain": [
              "LinearSVC(C=1.0, class_weight=None, dual=True, fit_intercept=True,\n",
              "          intercept_scaling=1, loss='squared_hinge', max_iter=1000,\n",
              "          multi_class='ovr', penalty='l2', random_state=None, tol=0.0001,\n",
              "          verbose=0)"
            ]
          },
          "metadata": {
            "tags": []
          },
          "execution_count": 4
        }
      ]
    },
    {
      "cell_type": "markdown",
      "metadata": {
        "id": "LbANZ1f_u0xW"
      },
      "source": [
        "###モデルがちゃんと学習できたが、テストデータで、予測させてみる"
      ]
    },
    {
      "cell_type": "code",
      "metadata": {
        "id": "oxxNiawCu8jJ",
        "outputId": "b9e1f0ed-076a-4cd4-c6d8-901dafe580ac",
        "colab": {
          "base_uri": "https://localhost:8080/",
          "height": 51
        }
      },
      "source": [
        "#予測用のテストデータ（検証データを作る）\n",
        "test_data = [[0,0],[1,0],[0,1],[1,1]]\n",
        "#モデルにテストデータを回答させる（予測）予測のメソッドはpredict\n",
        "test_label = clf.predict(test_data)\n",
        "#予測結果の評価\n",
        "print(test_data,\"の予測結果\",test_label)\n",
        "print(\"正解率 = \",accuracy_score([0,0,0,1],test_label))"
      ],
      "execution_count": null,
      "outputs": [
        {
          "output_type": "stream",
          "text": [
            "[[0, 0], [1, 0], [0, 1], [1, 1]] の予測結果 [0 0 0 1]\n",
            "正解率 =  1.0\n"
          ],
          "name": "stdout"
        }
      ]
    },
    {
      "cell_type": "markdown",
      "metadata": {
        "id": "KEKY66-OwGxz"
      },
      "source": [
        "### XOR演算を実装する"
      ]
    },
    {
      "cell_type": "code",
      "metadata": {
        "id": "qUZyA7VewORD"
      },
      "source": [
        "# XOR円座韻を学習するためのデータを用意する\n",
        "# X ,Y\n",
        "learn_data = [[0,0],[1,0],[0,1],[1,1]]\n",
        "# X xor Y の結果正解データ（学習ラベル）\n",
        "learn_label = [0,1,1,0]"
      ],
      "execution_count": null,
      "outputs": []
    },
    {
      "cell_type": "code",
      "metadata": {
        "id": "-ROM27LsxTSL",
        "outputId": "3ca61ac5-ffac-4ece-93ac-adeae67df207",
        "colab": {
          "base_uri": "https://localhost:8080/",
          "height": 85
        }
      },
      "source": [
        "# 学習モデルのインスタンスを作る（LinearSVC）\n",
        "clf = LinearSVC()\n",
        "# 学習させる\n",
        "clf.fit(learn_data,learn_label)"
      ],
      "execution_count": null,
      "outputs": [
        {
          "output_type": "execute_result",
          "data": {
            "text/plain": [
              "LinearSVC(C=1.0, class_weight=None, dual=True, fit_intercept=True,\n",
              "          intercept_scaling=1, loss='squared_hinge', max_iter=1000,\n",
              "          multi_class='ovr', penalty='l2', random_state=None, tol=0.0001,\n",
              "          verbose=0)"
            ]
          },
          "metadata": {
            "tags": []
          },
          "execution_count": 7
        }
      ]
    },
    {
      "cell_type": "code",
      "metadata": {
        "id": "82gkI7fcxuGe"
      },
      "source": [
        "# 学習モデルに推論させる\n",
        "test_data =  [[0,0],[1,0],[0,1],[1,1]]\n",
        "test_label = clf.predict(test_data)"
      ],
      "execution_count": null,
      "outputs": []
    },
    {
      "cell_type": "code",
      "metadata": {
        "id": "B9i7l6JAyvT8",
        "outputId": "2ce04ace-66e7-42ce-8920-632f77b0dfd2",
        "colab": {
          "base_uri": "https://localhost:8080/",
          "height": 51
        }
      },
      "source": [
        "# 結果を検証する\n",
        "print(test_data,\"の予測結果\",test_label)\n",
        "print(\"正解率　＝　\",accuracy_score([0,1,1,0],test_label))"
      ],
      "execution_count": null,
      "outputs": [
        {
          "output_type": "stream",
          "text": [
            "[[0, 0], [1, 0], [0, 1], [1, 1]] の予測結果 [0 1 0 1]\n",
            "正解率　＝　 0.5\n"
          ],
          "name": "stdout"
        }
      ]
    },
    {
      "cell_type": "markdown",
      "metadata": {
        "id": "lwHzitJCZUR3"
      },
      "source": [
        "### K近傍法でXOR演算を実装する"
      ]
    },
    {
      "cell_type": "code",
      "metadata": {
        "id": "aHLLNlNJZfUn"
      },
      "source": [
        "# K近傍法のアルゴリズムのクラスをimport\n",
        "from sklearn.neighbors import KNeighborsClassifier"
      ],
      "execution_count": null,
      "outputs": []
    },
    {
      "cell_type": "code",
      "metadata": {
        "id": "FTwLvKC8aEOe"
      },
      "source": [
        "# 学習モデルの変数clfをK近傍法アルゴリズムのインスタンスで上書き\n",
        "clf = KNeighborsClassifier(n_neighbors=1)\n"
      ],
      "execution_count": null,
      "outputs": []
    },
    {
      "cell_type": "code",
      "metadata": {
        "id": "XEg9xkZVajfY",
        "outputId": "e01f145f-4710-4d1a-b322-e55471d96003",
        "colab": {
          "base_uri": "https://localhost:8080/",
          "height": 68
        }
      },
      "source": [
        "# 学習用入力データ（learn_data）と結果用正解データ（learn_label）を使って学習\n",
        "clf.fit(learn_data,learn_label)\n"
      ],
      "execution_count": null,
      "outputs": [
        {
          "output_type": "execute_result",
          "data": {
            "text/plain": [
              "KNeighborsClassifier(algorithm='auto', leaf_size=30, metric='minkowski',\n",
              "                     metric_params=None, n_jobs=None, n_neighbors=1, p=2,\n",
              "                     weights='uniform')"
            ]
          },
          "metadata": {
            "tags": []
          },
          "execution_count": 15
        }
      ]
    },
    {
      "cell_type": "markdown",
      "metadata": {
        "id": "4mqEfad7beZU"
      },
      "source": [
        "### テスト検証用データで推論をする"
      ]
    },
    {
      "cell_type": "code",
      "metadata": {
        "id": "3mh6JqN_biUd",
        "outputId": "5f2a1756-82c5-4fb9-b949-d11b5f6ce3d5",
        "colab": {
          "base_uri": "https://localhost:8080/",
          "height": 51
        }
      },
      "source": [
        "# テスト検証用データ（test_data）と答え合わせ用の正解データ（[0,1,1,0]）\n",
        "test_label = clf.predict(test_data)\n",
        "\n",
        "# 推論結果の評価\n",
        "print(test_data,\"予測（推論）結果\",test_label)\n",
        "print(\"正解率＝\",accuracy_score([0,1,1,0],test_label))"
      ],
      "execution_count": null,
      "outputs": [
        {
          "output_type": "stream",
          "text": [
            "[[0, 0], [1, 0], [0, 1], [1, 1]] 予測（推論）結果 [0 1 1 0]\n",
            "正解率＝ 1.0\n"
          ],
          "name": "stdout"
        }
      ]
    },
    {
      "cell_type": "code",
      "metadata": {
        "id": "5lBiylg3cgWr"
      },
      "source": [
        "\n"
      ],
      "execution_count": null,
      "outputs": []
    }
  ]
}