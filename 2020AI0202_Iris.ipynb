{
  "nbformat": 4,
  "nbformat_minor": 0,
  "metadata": {
    "colab": {
      "name": "2020AI0202_Iris.ipynb",
      "provenance": [],
      "collapsed_sections": [],
      "authorship_tag": "ABX9TyPiMZnU9pzqVlx4zYYjkGld",
      "include_colab_link": true
    },
    "kernelspec": {
      "name": "python3",
      "display_name": "Python 3"
    }
  },
  "cells": [
    {
      "cell_type": "markdown",
      "metadata": {
        "id": "view-in-github",
        "colab_type": "text"
      },
      "source": [
        "<a href=\"https://colab.research.google.com/github/aso1801031/AI_teach2020/blob/master/2020AI0202_Iris.ipynb\" target=\"_parent\"><img src=\"https://colab.research.google.com/assets/colab-badge.svg\" alt=\"Open In Colab\"/></a>"
      ]
    },
    {
      "cell_type": "markdown",
      "metadata": {
        "id": "aakB8gjyNnZd"
      },
      "source": [
        "### urlオブジェクトを使ってファイルをリンクから保存"
      ]
    },
    {
      "cell_type": "code",
      "metadata": {
        "id": "L4P0gERrONMr"
      },
      "source": [
        "#urlライブラリのrequestクラスをreqという別名でimport\n",
        "import urllib.request as req\n",
        "# pandas ライブラリをpdという別名でimport\n",
        "import pandas as pd"
      ],
      "execution_count": 22,
      "outputs": []
    },
    {
      "cell_type": "code",
      "metadata": {
        "id": "ojFBFpW0PUoM",
        "outputId": "9feb5f62-45f9-4873-cadd-e9700a958726",
        "colab": {
          "base_uri": "https://localhost:8080/",
          "height": 34
        }
      },
      "source": [
        "# url という名前のオブジェクト変数を定義\n",
        "url = \"https://github.com/pandas-dev/pandas/raw/master/pandas/tests/io/data/csv/iris.csv\"\n",
        "# リンクから保存するためのファイル名を定義\n",
        "savefile = \"iris.csv\"\n",
        "# request クラスを使ってurlからデータをsavefileへコピー\n",
        "req.urlretrieve(url,savefile)\n",
        "print(\"保存しました\")"
      ],
      "execution_count": 23,
      "outputs": [
        {
          "output_type": "stream",
          "text": [
            "保存しました\n"
          ],
          "name": "stdout"
        }
      ]
    },
    {
      "cell_type": "markdown",
      "metadata": {
        "id": "X6g-hzOqQRK9"
      },
      "source": [
        "### 保存したCSVファイルをメモリ上に読み込んで画面に表示させる"
      ]
    },
    {
      "cell_type": "code",
      "metadata": {
        "id": "Jp_D7r-IQaNl"
      },
      "source": [
        "#pandasのread_csvメソッドを使ってCSVファイルを読み込む\n",
        "iris_data=pd.read_csv(savefile,encoding=\"utf-8\")"
      ],
      "execution_count": 24,
      "outputs": []
    },
    {
      "cell_type": "markdown",
      "metadata": {
        "id": "xpESILPCWUrf"
      },
      "source": [
        "### 機械学習のライブラリを読み込む"
      ]
    },
    {
      "cell_type": "code",
      "metadata": {
        "id": "g9vySCv6WYNP"
      },
      "source": [
        "#機械学習のデータをテスト用とに分けるためのクラス\n",
        "from sklearn.model_selection import train_test_split\n",
        "# サポートベクターマシン（SVM）のSVCアルゴリズムのクラス\n",
        "from sklearn.svm import SVC\n",
        "# テストの評価用クラス\n",
        "from sklearn.metrics import accuracy_score\n"
      ],
      "execution_count": 25,
      "outputs": []
    },
    {
      "cell_type": "markdown",
      "metadata": {
        "id": "R1_2eui1XzjH"
      },
      "source": [
        "## アヤメのCSVデータを正解（ラベル）と入力用データに分離する\n"
      ]
    },
    {
      "cell_type": "markdown",
      "metadata": {
        "id": "yWYN6UjwsDrN"
      },
      "source": [
        "列を分ける"
      ]
    },
    {
      "cell_type": "code",
      "metadata": {
        "id": "u8QuYteKsJ-V"
      },
      "source": [
        "#pythonのリスト切り出しを使って表を縦に分割する\n",
        "#yに右一列（”Name”の列）だけを切り取って代入\n",
        "y = iris_data.loc[:,\"Name\"]"
      ],
      "execution_count": 27,
      "outputs": []
    },
    {
      "cell_type": "code",
      "metadata": {
        "id": "27rfYT51Zbab",
        "outputId": "101903dc-8bb1-4f31-bfa4-65facb798a59",
        "colab": {
          "base_uri": "https://localhost:8080/",
          "height": 255
        }
      },
      "source": [
        "#  xに左４列のデータを切り取って代入\n",
        "x = iris_data.loc[:,[\"SepalLength\",\"SepalWidth\",\"PetalLength\",\"PetalWidth\"]]\n",
        "print(x)"
      ],
      "execution_count": 28,
      "outputs": [
        {
          "output_type": "stream",
          "text": [
            "     SepalLength  SepalWidth  PetalLength  PetalWidth\n",
            "0            5.1         3.5          1.4         0.2\n",
            "1            4.9         3.0          1.4         0.2\n",
            "2            4.7         3.2          1.3         0.2\n",
            "3            4.6         3.1          1.5         0.2\n",
            "4            5.0         3.6          1.4         0.2\n",
            "..           ...         ...          ...         ...\n",
            "145          6.7         3.0          5.2         2.3\n",
            "146          6.3         2.5          5.0         1.9\n",
            "147          6.5         3.0          5.2         2.0\n",
            "148          6.2         3.4          5.4         2.3\n",
            "149          5.9         3.0          5.1         1.8\n",
            "\n",
            "[150 rows x 4 columns]\n"
          ],
          "name": "stdout"
        }
      ]
    },
    {
      "cell_type": "markdown",
      "metadata": {
        "id": "0uloTYT5uD90"
      },
      "source": [
        "### 　xデータも、ｙデータも、学習用に使うデータと、テスト検証用に使うデータに分けておく"
      ]
    },
    {
      "cell_type": "code",
      "metadata": {
        "id": "7c6wKwMZtN1T"
      },
      "source": [
        "# est_splitを使って、ｘもｙもtrainデータとtestデータにランダムに分ける（shuffle）\n",
        "#　比率はest = 0.0,train=0.0で、x_train,y_train,x_test,y_testという編集に代入する\n",
        "x_train,x_test,y_train,y_test=train_test_split(x,y,test_size=0.2,train_size=0.8,shuffle=True)"
      ],
      "execution_count": 29,
      "outputs": []
    },
    {
      "cell_type": "markdown",
      "metadata": {
        "id": "qGJ45DK3uCmt"
      },
      "source": [
        "### Xtrain(学習用入力データ)、Ytrain(学習用正解データ)を使ってモデルを学習させる"
      ]
    },
    {
      "cell_type": "code",
      "metadata": {
        "id": "V2SvfYj_vF_s"
      },
      "source": [
        "# SVCアルゴリズムの学習モデルのインスタンスを生成\n",
        "clf = SVC()"
      ],
      "execution_count": 30,
      "outputs": []
    },
    {
      "cell_type": "code",
      "metadata": {
        "id": "DaNH_HzPvRhD",
        "outputId": "ce1fe0fd-5b94-438c-e815-07e08f4b64df",
        "colab": {
          "base_uri": "https://localhost:8080/",
          "height": 85
        }
      },
      "source": [
        "# SVCアルゴリズムの学習モデルに学習モデルに学習用の入力データと正解データを引き渡して学習させる\n",
        "clf.fit(x_train,y_train)"
      ],
      "execution_count": 31,
      "outputs": [
        {
          "output_type": "execute_result",
          "data": {
            "text/plain": [
              "SVC(C=1.0, break_ties=False, cache_size=200, class_weight=None, coef0=0.0,\n",
              "    decision_function_shape='ovr', degree=3, gamma='scale', kernel='rbf',\n",
              "    max_iter=-1, probability=False, random_state=None, shrinking=True,\n",
              "    tol=0.001, verbose=False)"
            ]
          },
          "metadata": {
            "tags": []
          },
          "execution_count": 31
        }
      ]
    },
    {
      "cell_type": "markdown",
      "metadata": {
        "id": "Vb_zkkUGwLIe"
      },
      "source": [
        "###  学習がうまくいったかを検証して評価する\n",
        "# x_testデータを使って推論させてた結果（y_pred）と本来の正解データ（y_test）を比較して推論がどれくらいの割合正解しているかを評価する"
      ]
    },
    {
      "cell_type": "code",
      "metadata": {
        "id": "jA6WZuU7wTOH",
        "outputId": "88a5d35e-7653-44ac-c5b9-2f141b38c7e5",
        "colab": {
          "base_uri": "https://localhost:8080/",
          "height": 34
        }
      },
      "source": [
        "# x_testデータを使って学習モデルclfに推論させる（結果は変数oredに代入）\n",
        "y_pred = clf.predict(x_test)\n",
        "# accuracy_scoreでy_predとy_testを比較する\n",
        "print(\"正解率＝\",accuracy_score(y_test,y_pred))"
      ],
      "execution_count": 32,
      "outputs": [
        {
          "output_type": "stream",
          "text": [
            "正解率＝ 0.9\n"
          ],
          "name": "stdout"
        }
      ]
    },
    {
      "cell_type": "code",
      "metadata": {
        "id": "y7Lzvia1xbVZ"
      },
      "source": [
        ""
      ],
      "execution_count": null,
      "outputs": []
    }
  ]
}