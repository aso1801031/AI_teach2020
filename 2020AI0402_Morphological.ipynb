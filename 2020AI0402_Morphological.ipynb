{
  "nbformat": 4,
  "nbformat_minor": 0,
  "metadata": {
    "colab": {
      "name": "2020AI0402-Morphological.ipynb",
      "provenance": [],
      "collapsed_sections": [],
      "authorship_tag": "ABX9TyNI+R9ShqdYvfWVH7gSrkfl",
      "include_colab_link": true
    },
    "kernelspec": {
      "name": "python3",
      "display_name": "Python 3"
    }
  },
  "cells": [
    {
      "cell_type": "markdown",
      "metadata": {
        "id": "view-in-github",
        "colab_type": "text"
      },
      "source": [
        "<a href=\"https://colab.research.google.com/github/aso1801031/AI_teach2020/blob/master/2020AI0402_Morphological.ipynb\" target=\"_parent\"><img src=\"https://colab.research.google.com/assets/colab-badge.svg\" alt=\"Open In Colab\"/></a>"
      ]
    },
    {
      "cell_type": "markdown",
      "metadata": {
        "id": "0g14rSXqS94A"
      },
      "source": [
        "## 形態素解析（Mor@jologicalAnalysis）"
      ]
    },
    {
      "cell_type": "markdown",
      "metadata": {
        "id": "JT4z-mUMTIai"
      },
      "source": [
        "### 形態素解析ライブラリMecabのインストール"
      ]
    },
    {
      "cell_type": "code",
      "metadata": {
        "id": "UDylFqGzSvS3"
      },
      "source": [
        "# 形態素解析ライブラリMecabと辞書（mecab-ipadic-NEologd）のインストール\n",
        "!apt-get -q -y install sudo file mecab libmecab-dev mecab-ipadic-utf8 git curl python-mecab > /dev/null\n",
        "!pip install mecab-python3 > /dev/null\n",
        "\n",
        "# Mecab実行時の指定ぱすをインストールパスにリンクさせる\n",
        "# シンボリックリンク（/etc/mecabrc を/usr/local/etc/mecabrc　で参照できる湯にする）\n",
        "! ln -s /etc/mecabrc /usr/local/etc/mecabrc"
      ],
      "execution_count": 4,
      "outputs": []
    },
    {
      "cell_type": "markdown",
      "metadata": {
        "id": "3zHSCtr6Ujk0"
      },
      "source": [
        "### まずMecabのデフォルト辞書で文章を解析する"
      ]
    },
    {
      "cell_type": "code",
      "metadata": {
        "colab": {
          "base_uri": "https://localhost:8080/"
        },
        "id": "0wQwCZ-MTyrf",
        "outputId": "62d5c8b1-d505-4568-9bb5-d9c4beb44768"
      },
      "source": [
        "# インストールしたMecabをインポート\n",
        "import MeCab\n",
        "# MeCabプロジェクトの生成（デフォルト辞書）\n",
        "tagger = MeCab.Tagger()\n",
        "#　形態素解析を実行させる\n",
        "result = tagger.parse(\"メイが恋ダンスを踊っている。\")\n",
        "# 解析結果を表示\n",
        "print(result)"
      ],
      "execution_count": 5,
      "outputs": [
        {
          "output_type": "stream",
          "text": [
            "メイ\t名詞,一般,*,*,*,*,*\n",
            "が\t助詞,格助詞,一般,*,*,*,が,ガ,ガ\n",
            "恋\t名詞,一般,*,*,*,*,恋,コイ,コイ\n",
            "ダンス\t名詞,サ変接続,*,*,*,*,ダンス,ダンス,ダンス\n",
            "を\t助詞,格助詞,一般,*,*,*,を,ヲ,ヲ\n",
            "踊っ\t動詞,自立,*,*,五段・ラ行,連用タ接続,踊る,オドッ,オドッ\n",
            "て\t助詞,接続助詞,*,*,*,*,て,テ,テ\n",
            "いる\t動詞,非自立,*,*,一段,基本形,いる,イル,イル\n",
            "。\t記号,句点,*,*,*,*,。,。,。\n",
            "EOS\n",
            "\n"
          ],
          "name": "stdout"
        }
      ]
    },
    {
      "cell_type": "markdown",
      "metadata": {
        "id": "OXKQnmEHb_NC"
      },
      "source": [
        "### 最新の情報が入った辞書（ipadic-neologd）で形態素解析してみる"
      ]
    },
    {
      "cell_type": "code",
      "metadata": {
        "colab": {
          "base_uri": "https://localhost:8080/"
        },
        "id": "JinvSHtvcXEy",
        "outputId": "692de84b-c691-4982-dac4-b2606f787953"
      },
      "source": [
        "# github上からipadic-neologdの最新版をダウンロード\n",
        "! git clone --depth 1 https://github.com/neologd/mecab-ipadic-neologd.git > /dev/null\n",
        "# ipadic-neologdのインストール\n",
        "!echo yes | mecab-ipadic-neologd/bin/install-mecab-ipadic-neologd -n > /dev/null 2>&1"
      ],
      "execution_count": 6,
      "outputs": [
        {
          "output_type": "stream",
          "text": [
            "fatal: destination path 'mecab-ipadic-neologd' already exists and is not an empty directory.\n"
          ],
          "name": "stdout"
        }
      ]
    },
    {
      "cell_type": "markdown",
      "metadata": {
        "id": "L-45-CGveC6j"
      },
      "source": [
        "### 辞書のインストール済みディレクトリの場所を表示"
      ]
    },
    {
      "cell_type": "code",
      "metadata": {
        "colab": {
          "base_uri": "https://localhost:8080/"
        },
        "id": "NRW2R6mGdYzt",
        "outputId": "70b668c2-5249-45c2-e2cd-8fb008f3e67d"
      },
      "source": [
        "# 辞書のインストール済みディレクトリの場所を表示\n",
        "!echo `mecab-config --dicdir`\"/mecab-ipadic-neologd\""
      ],
      "execution_count": 7,
      "outputs": [
        {
          "output_type": "stream",
          "text": [
            "/usr/lib/x86_64-linux-gnu/mecab/dic/mecab-ipadic-neologd\n"
          ],
          "name": "stdout"
        }
      ]
    },
    {
      "cell_type": "markdown",
      "metadata": {
        "id": "cv1yA8sVfTuk"
      },
      "source": [
        "### 辞書（ipadic-neologd）の場所を指定してMeCabで形態素解析\n"
      ]
    },
    {
      "cell_type": "code",
      "metadata": {
        "colab": {
          "base_uri": "https://localhost:8080/"
        },
        "id": "asBrIiYOeONi",
        "outputId": "79ed0260-a5fd-4f1e-ffcb-f0d341d10af7"
      },
      "source": [
        "import MeCab\n",
        "# mecab-ipadic-NEologd辞書を指定して、MeCabオブジェクトの生成\n",
        "path_neologd = \"/usr/lib/x86_64-linux-gnu/mecab/dic/mecab-ipadic-neologd\"\n",
        "tagger = MeCab.Tagger( \"-d \" + path_neologd )\n",
        "# オブジェクトインスタンスで形態素解析を行う\n",
        "result = tagger.parse( \"メイが恋ダンスを踊っている。\" )\n",
        "print( result )"
      ],
      "execution_count": 8,
      "outputs": [
        {
          "output_type": "stream",
          "text": [
            "メイ\t名詞,固有名詞,人名,一般,*,*,M.A.Y,メイ,メイ\n",
            "が\t助詞,格助詞,一般,*,*,*,が,ガ,ガ\n",
            "恋ダンス\t名詞,固有名詞,一般,*,*,*,恋ダンス,コイダンス,コイダンス\n",
            "を\t助詞,格助詞,一般,*,*,*,を,ヲ,ヲ\n",
            "踊っ\t動詞,自立,*,*,五段・ラ行,連用タ接続,踊る,オドッ,オドッ\n",
            "て\t助詞,接続助詞,*,*,*,*,て,テ,テ\n",
            "いる\t動詞,非自立,*,*,一段,基本形,いる,イル,イル\n",
            "。\t記号,句点,*,*,*,*,。,。,。\n",
            "EOS\n",
            "\n"
          ],
          "name": "stdout"
        }
      ]
    },
    {
      "cell_type": "markdown",
      "metadata": {
        "id": "ouEKqdfefn-_"
      },
      "source": [
        "### 形態素解析結果を品詞分析して名詞、動詞、形容詞だけを抜き出すことでストップワードを除外する"
      ]
    },
    {
      "cell_type": "code",
      "metadata": {
        "colab": {
          "base_uri": "https://localhost:8080/"
        },
        "id": "fLrW5OQifi6M",
        "outputId": "1928359b-434b-4309-fd3b-970e9d35e1c7"
      },
      "source": [
        "import MeCab\n",
        "# mecab-ipadic-NEologd辞書を指定して、MeCabオブジェクトの生成\n",
        "path_neologd = \"/usr/lib/x86_64-linux-gnu/mecab/dic/mecab-ipadic-neologd\"\n",
        "tagger = MeCab.Tagger( \"-d\" + path_neologd )\n",
        "# 形態素解析して、結果（リスト）を取得\n",
        "node = tagger.parseToNode(\"メイが恋ダンスを踊っている。\")\n",
        "print( node )\n",
        "\n",
        "result = [] # 抽出結果を登録する配列\n",
        "# リストのリンクNextがNoneになるまでループ処理\n",
        "while node is not None:\n",
        "  # 品詞情報取得 node詳細の先頭（品詞情報）だけを抜き出す\n",
        "  hinshi = node.feature.split(\",\")[0]\n",
        "  if hinshi in [\"名詞\"]:\n",
        "    # 名詞だったら、表層系を結果配列 result に追加\n",
        "    result.append( node.surface )\n",
        "  elif hinshi in [\"動詞\", \"形容詞\"]:\n",
        "    # 動詞、形容詞だったら、node形態素情報から原形情報(index6番目)をresult配列に追加\n",
        "    result.append( node.feature.split(\",\")[6] )\n",
        "  # if/elif文終わり\n",
        "  node = node.next\n",
        "# whileループ終わり\n",
        "print( result )\n"
      ],
      "execution_count": 9,
      "outputs": [
        {
          "output_type": "stream",
          "text": [
            "<Swig Object of type 'MeCab::Node *' at 0x7f75b84a4f80>\n",
            "['メイ', '恋ダンス', '踊る', 'いる']\n"
          ],
          "name": "stdout"
        }
      ]
    },
    {
      "cell_type": "code",
      "metadata": {
        "id": "mj5e2qsqfuhc"
      },
      "source": [
        ""
      ],
      "execution_count": null,
      "outputs": []
    }
  ]
}