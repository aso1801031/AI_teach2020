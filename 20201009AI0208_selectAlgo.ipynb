{
  "nbformat": 4,
  "nbformat_minor": 0,
  "metadata": {
    "colab": {
      "name": "20201009AI0208-selectAlgo.ipynb",
      "provenance": [],
      "collapsed_sections": [],
      "authorship_tag": "ABX9TyMZRQzMIPNCX/dT7bzWu/+s",
      "include_colab_link": true
    },
    "kernelspec": {
      "name": "python3",
      "display_name": "Python 3"
    }
  },
  "cells": [
    {
      "cell_type": "markdown",
      "metadata": {
        "id": "view-in-github",
        "colab_type": "text"
      },
      "source": [
        "<a href=\"https://colab.research.google.com/github/aso1801031/AI_teach2020/blob/master/20201009AI0208_selectAlgo.ipynb\" target=\"_parent\"><img src=\"https://colab.research.google.com/assets/colab-badge.svg\" alt=\"Open In Colab\"/></a>"
      ]
    },
    {
      "cell_type": "markdown",
      "metadata": {
        "id": "TS8jJCNJ66Q4"
      },
      "source": [
        " ## sklearnでエラーが出るので、前のバージョンを入れ直す"
      ]
    },
    {
      "cell_type": "code",
      "metadata": {
        "id": "G5-n_x1Z7LSB",
        "outputId": "1d234797-c462-4d08-ae02-8ad543c9793f",
        "colab": {
          "base_uri": "https://localhost:8080/",
          "height": 484
        }
      },
      "source": [
        "# 現在のscikitーlearnをcolabのVMからアンインストール\n",
        "!pip uninstall scikit-learn\n",
        "# 前のバージョンを指定してvmにいんすとーる\n",
        "!pip install scikit-learn==0.20 --ignore-installed"
      ],
      "execution_count": 2,
      "outputs": [
        {
          "output_type": "stream",
          "text": [
            "Uninstalling scikit-learn-0.22.2.post1:\n",
            "  Would remove:\n",
            "    /usr/local/lib/python3.6/dist-packages/scikit_learn-0.22.2.post1.dist-info/*\n",
            "    /usr/local/lib/python3.6/dist-packages/sklearn/*\n",
            "Proceed (y/n)? y\n",
            "  Successfully uninstalled scikit-learn-0.22.2.post1\n",
            "Collecting scikit-learn==0.20\n",
            "\u001b[?25l  Downloading https://files.pythonhosted.org/packages/0c/b2/05be9b6da9ae4a4c54f537be22e95833f722742a02b1e355fdc09363877c/scikit_learn-0.20.0-cp36-cp36m-manylinux1_x86_64.whl (5.3MB)\n",
            "\u001b[K     |████████████████████████████████| 5.3MB 2.6MB/s \n",
            "\u001b[?25hCollecting numpy>=1.8.2\n",
            "\u001b[?25l  Downloading https://files.pythonhosted.org/packages/0e/f7/a7d7e0de99a7b43bd95aaddcf29e65b5a185ca389dd1329a53cc986edc38/numpy-1.19.3-cp36-cp36m-manylinux2010_x86_64.whl (14.9MB)\n",
            "\u001b[K     |████████████████████████████████| 14.9MB 300kB/s \n",
            "\u001b[?25hCollecting scipy>=0.13.3\n",
            "\u001b[?25l  Downloading https://files.pythonhosted.org/packages/8a/14/d0475ceeaa047f3eae2dc7597c3d40228e1d5beee42c1730f3c96ffb5526/scipy-1.5.3-cp36-cp36m-manylinux1_x86_64.whl (25.9MB)\n",
            "\u001b[K     |████████████████████████████████| 25.9MB 168kB/s \n",
            "\u001b[31mERROR: tensorflow 2.3.0 has requirement numpy<1.19.0,>=1.16.0, but you'll have numpy 1.19.3 which is incompatible.\u001b[0m\n",
            "\u001b[31mERROR: tensorflow 2.3.0 has requirement scipy==1.4.1, but you'll have scipy 1.5.3 which is incompatible.\u001b[0m\n",
            "\u001b[31mERROR: datascience 0.10.6 has requirement folium==0.2.1, but you'll have folium 0.8.3 which is incompatible.\u001b[0m\n",
            "\u001b[31mERROR: albumentations 0.1.12 has requirement imgaug<0.2.7,>=0.2.5, but you'll have imgaug 0.2.9 which is incompatible.\u001b[0m\n",
            "\u001b[?25hInstalling collected packages: numpy, scipy, scikit-learn\n",
            "Successfully installed numpy-1.19.3 scikit-learn-0.20.0 scipy-1.5.3\n"
          ],
          "name": "stdout"
        },
        {
          "output_type": "display_data",
          "data": {
            "application/vnd.colab-display-data+json": {
              "pip_warning": {
                "packages": [
                  "numpy"
                ]
              }
            }
          },
          "metadata": {
            "tags": []
          }
        }
      ]
    },
    {
      "cell_type": "markdown",
      "metadata": {
        "id": "1ZR6TOe-xriw"
      },
      "source": [
        "### all_estimators()でループして各種のアルゴリズムで学習させ、比較する"
      ]
    },
    {
      "cell_type": "code",
      "metadata": {
        "id": "ZlFfVGNCwpDB"
      },
      "source": [
        "# ライブラリ読み込み\n",
        "import pandas as pd\n",
        "# 学習用データとテスト検証用データを分割する\n",
        "from sklearn.model_selection import train_test_split\n",
        "# 正解率を算出するライブラリ\n",
        "from sklearn.metrics import accuracy_score\n",
        "# all_estimaios(推定機の全てを利用できるようにする)\n",
        "from sklearn.utils.testing import all_estimators\n",
        "# 警告クラス\n",
        "import warnings"
      ],
      "execution_count": 3,
      "outputs": []
    },
    {
      "cell_type": "markdown",
      "metadata": {
        "id": "Q86IVSqNzNGf"
      },
      "source": [
        "### Webからあやめのデータを読み込む"
      ]
    },
    {
      "cell_type": "code",
      "metadata": {
        "id": "4YkCUG7xzRWl",
        "outputId": "6d175894-83bb-446e-ec41-704a77dd58a3",
        "colab": {
          "base_uri": "https://localhost:8080/",
          "height": 204
        }
      },
      "source": [
        "# urリンクから読み込むライブラリ\n",
        "import urllib.request as req\n",
        "# url用の文字列変数を定義\n",
        "url =\"https://raw.githubusercontent.com/pandas-dev/pandas/master/pandas/tests/io/data/csv/iris.csv\"\n",
        "#リンクから保存するためのファイル名を定義\n",
        "savefile = \"iris.csv\"\n",
        "# requestクラスを使ってurlからデータをsavefileへコピーして保存\n",
        "req.urlretrieve(url,savefile)\n",
        "#pandasのreadメソッドを使ってcsvファイルを読み込む\n",
        "iris_data = pd.read_csv(savefile,encoding=\"utf-8\")\n",
        "iris_data.head()\n"
      ],
      "execution_count": 4,
      "outputs": [
        {
          "output_type": "execute_result",
          "data": {
            "text/html": [
              "<div>\n",
              "<style scoped>\n",
              "    .dataframe tbody tr th:only-of-type {\n",
              "        vertical-align: middle;\n",
              "    }\n",
              "\n",
              "    .dataframe tbody tr th {\n",
              "        vertical-align: top;\n",
              "    }\n",
              "\n",
              "    .dataframe thead th {\n",
              "        text-align: right;\n",
              "    }\n",
              "</style>\n",
              "<table border=\"1\" class=\"dataframe\">\n",
              "  <thead>\n",
              "    <tr style=\"text-align: right;\">\n",
              "      <th></th>\n",
              "      <th>SepalLength</th>\n",
              "      <th>SepalWidth</th>\n",
              "      <th>PetalLength</th>\n",
              "      <th>PetalWidth</th>\n",
              "      <th>Name</th>\n",
              "    </tr>\n",
              "  </thead>\n",
              "  <tbody>\n",
              "    <tr>\n",
              "      <th>0</th>\n",
              "      <td>5.1</td>\n",
              "      <td>3.5</td>\n",
              "      <td>1.4</td>\n",
              "      <td>0.2</td>\n",
              "      <td>Iris-setosa</td>\n",
              "    </tr>\n",
              "    <tr>\n",
              "      <th>1</th>\n",
              "      <td>4.9</td>\n",
              "      <td>3.0</td>\n",
              "      <td>1.4</td>\n",
              "      <td>0.2</td>\n",
              "      <td>Iris-setosa</td>\n",
              "    </tr>\n",
              "    <tr>\n",
              "      <th>2</th>\n",
              "      <td>4.7</td>\n",
              "      <td>3.2</td>\n",
              "      <td>1.3</td>\n",
              "      <td>0.2</td>\n",
              "      <td>Iris-setosa</td>\n",
              "    </tr>\n",
              "    <tr>\n",
              "      <th>3</th>\n",
              "      <td>4.6</td>\n",
              "      <td>3.1</td>\n",
              "      <td>1.5</td>\n",
              "      <td>0.2</td>\n",
              "      <td>Iris-setosa</td>\n",
              "    </tr>\n",
              "    <tr>\n",
              "      <th>4</th>\n",
              "      <td>5.0</td>\n",
              "      <td>3.6</td>\n",
              "      <td>1.4</td>\n",
              "      <td>0.2</td>\n",
              "      <td>Iris-setosa</td>\n",
              "    </tr>\n",
              "  </tbody>\n",
              "</table>\n",
              "</div>"
            ],
            "text/plain": [
              "   SepalLength  SepalWidth  PetalLength  PetalWidth         Name\n",
              "0          5.1         3.5          1.4         0.2  Iris-setosa\n",
              "1          4.9         3.0          1.4         0.2  Iris-setosa\n",
              "2          4.7         3.2          1.3         0.2  Iris-setosa\n",
              "3          4.6         3.1          1.5         0.2  Iris-setosa\n",
              "4          5.0         3.6          1.4         0.2  Iris-setosa"
            ]
          },
          "metadata": {
            "tags": []
          },
          "execution_count": 4
        }
      ]
    },
    {
      "cell_type": "markdown",
      "metadata": {
        "id": "TowPYtPL2HDD"
      },
      "source": [
        "### アヤメデータを目的変数yと説明変数xに分離する"
      ]
    },
    {
      "cell_type": "code",
      "metadata": {
        "id": "FuC6mxlU2SOX",
        "outputId": "74cf5503-3045-4d89-d5f9-c94e32e46497",
        "colab": {
          "base_uri": "https://localhost:8080/"
        }
      },
      "source": [
        "y = iris_data.loc[:, \"Name\"] #目的変数\n",
        "x = iris_data.loc[:,[\"SepalLength\",\"SepalWidth\",\"PetalLength\",\"PetalWidth\"]] #説明変数\n",
        "\n",
        "print(y.head())\n",
        "print(x.head())"
      ],
      "execution_count": 5,
      "outputs": [
        {
          "output_type": "stream",
          "text": [
            "0    Iris-setosa\n",
            "1    Iris-setosa\n",
            "2    Iris-setosa\n",
            "3    Iris-setosa\n",
            "4    Iris-setosa\n",
            "Name: Name, dtype: object\n",
            "   SepalLength  SepalWidth  PetalLength  PetalWidth\n",
            "0          5.1         3.5          1.4         0.2\n",
            "1          4.9         3.0          1.4         0.2\n",
            "2          4.7         3.2          1.3         0.2\n",
            "3          4.6         3.1          1.5         0.2\n",
            "4          5.0         3.6          1.4         0.2\n"
          ],
          "name": "stdout"
        }
      ]
    },
    {
      "cell_type": "markdown",
      "metadata": {
        "id": "5SREJ-m42-oT"
      },
      "source": [
        "### アヤメデータをさらに学習用とテストように分離する"
      ]
    },
    {
      "cell_type": "code",
      "metadata": {
        "id": "yf0tnmnH3Cxh",
        "outputId": "1b75e487-1eb9-4b8d-8d48-0b0aa77e63b2",
        "colab": {
          "base_uri": "https://localhost:8080/"
        }
      },
      "source": [
        "# 学習用データ（train）と検証用データ（test）に分離\n",
        "x_train,x_test,y_train,y_test = train_test_split(x,y,test_size=0.2,train_size=0.8,shuffle=True)\n",
        "print(x_train.head())\n",
        "print(y_train.head())\n",
        "print(x_test.head())\n",
        "print(y_test.head())"
      ],
      "execution_count": 6,
      "outputs": [
        {
          "output_type": "stream",
          "text": [
            "     SepalLength  SepalWidth  PetalLength  PetalWidth\n",
            "102          7.1         3.0          5.9         2.1\n",
            "130          7.4         2.8          6.1         1.9\n",
            "21           5.1         3.7          1.5         0.4\n",
            "84           5.4         3.0          4.5         1.5\n",
            "50           7.0         3.2          4.7         1.4\n",
            "102     Iris-virginica\n",
            "130     Iris-virginica\n",
            "21         Iris-setosa\n",
            "84     Iris-versicolor\n",
            "50     Iris-versicolor\n",
            "Name: Name, dtype: object\n",
            "     SepalLength  SepalWidth  PetalLength  PetalWidth\n",
            "52           6.9         3.1          4.9         1.5\n",
            "78           6.0         2.9          4.5         1.5\n",
            "62           6.0         2.2          4.0         1.0\n",
            "14           5.8         4.0          1.2         0.2\n",
            "115          6.4         3.2          5.3         2.3\n",
            "52     Iris-versicolor\n",
            "78     Iris-versicolor\n",
            "62     Iris-versicolor\n",
            "14         Iris-setosa\n",
            "115     Iris-virginica\n",
            "Name: Name, dtype: object\n"
          ],
          "name": "stdout"
        }
      ]
    },
    {
      "cell_type": "markdown",
      "metadata": {
        "id": "E3k6mlZU4GQn"
      },
      "source": [
        "### allAlgorithmsにclassifierを指定して「分類」でフィルターしたアルゴリズムの推定器群を取得する"
      ]
    },
    {
      "cell_type": "code",
      "metadata": {
        "id": "s4bW2t0Y4fmL"
      },
      "source": [
        "# 推定器のリストをフィルター指定して取得\n",
        "allAlgorithms = all_estimators(type_filter=\"classifier\")\n",
        "# ワーニングを無視する\n",
        "warnings.filterwarnings(\"ignore\")"
      ],
      "execution_count": 7,
      "outputs": []
    },
    {
      "cell_type": "code",
      "metadata": {
        "id": "7NzjZZkt4_a6"
      },
      "source": [
        ""
      ],
      "execution_count": 7,
      "outputs": []
    },
    {
      "cell_type": "markdown",
      "metadata": {
        "id": "AgNoNaeu5BV0"
      },
      "source": [
        "### 推定器のリストをループしながら学習&推論させる"
      ]
    },
    {
      "cell_type": "code",
      "metadata": {
        "id": "Ddwg_9jT5LHx",
        "outputId": "9d5f6ec0-af7f-4b31-d727-1061e6e13851",
        "colab": {
          "base_uri": "https://localhost:8080/"
        }
      },
      "source": [
        "#推定器のリストをループ\n",
        "for(name,algorithm) in allAlgorithms:\n",
        "  #各アルゴリズムのオブジェクトを生成\n",
        "  clf = algorithm() # 各アルゴリズムクラスのコンストラクトを実行\n",
        "  #　学習させる\n",
        "  clf.fit(x_train,y_train)\n",
        "  # 推論する\n",
        "  y_pred = clf.predict(x_test)\n",
        "  # accuracy_scoreで正解率を算出して表示\n",
        "  print(name,\"正解率 = \",accuracy_score(y_test,y_pred) )"
      ],
      "execution_count": 8,
      "outputs": [
        {
          "output_type": "stream",
          "text": [
            "AdaBoostClassifier 正解率 =  1.0\n",
            "BaggingClassifier 正解率 =  1.0\n",
            "BernoulliNB 正解率 =  0.3\n",
            "CalibratedClassifierCV 正解率 =  0.9666666666666667\n",
            "ComplementNB 正解率 =  0.7\n",
            "DecisionTreeClassifier 正解率 =  0.9666666666666667\n",
            "ExtraTreeClassifier 正解率 =  1.0\n",
            "ExtraTreesClassifier 正解率 =  0.9666666666666667\n",
            "GaussianNB 正解率 =  0.9666666666666667\n",
            "GaussianProcessClassifier 正解率 =  0.9666666666666667\n",
            "GradientBoostingClassifier 正解率 =  1.0\n",
            "KNeighborsClassifier 正解率 =  1.0\n",
            "LabelPropagation 正解率 =  1.0\n",
            "LabelSpreading 正解率 =  1.0\n",
            "LinearDiscriminantAnalysis 正解率 =  1.0\n",
            "LinearSVC 正解率 =  1.0\n",
            "LogisticRegression 正解率 =  1.0\n",
            "LogisticRegressionCV 正解率 =  1.0\n",
            "MLPClassifier 正解率 =  1.0\n",
            "MultinomialNB 正解率 =  0.9666666666666667\n",
            "NearestCentroid 正解率 =  0.9\n",
            "NuSVC 正解率 =  0.9666666666666667\n",
            "PassiveAggressiveClassifier 正解率 =  0.8666666666666667\n",
            "Perceptron 正解率 =  0.7\n",
            "QuadraticDiscriminantAnalysis 正解率 =  1.0\n",
            "RadiusNeighborsClassifier 正解率 =  0.9666666666666667\n",
            "RandomForestClassifier 正解率 =  1.0\n",
            "RidgeClassifier 正解率 =  0.9\n",
            "RidgeClassifierCV 正解率 =  0.9\n",
            "SGDClassifier 正解率 =  0.7\n",
            "SVC 正解率 =  1.0\n"
          ],
          "name": "stdout"
        }
      ]
    },
    {
      "cell_type": "markdown",
      "metadata": {
        "id": "SYbe5xmll84Z"
      },
      "source": [
        "## クロスバリデーション "
      ]
    },
    {
      "cell_type": "markdown",
      "metadata": {
        "id": "X1Xvup8-mCx5"
      },
      "source": [
        "### クロスバリデーション 関連のライブラリのインポート"
      ]
    },
    {
      "cell_type": "code",
      "metadata": {
        "id": "BG1p7h8rmHmQ"
      },
      "source": [
        "# ライブラリのインポート\n",
        "from sklearn.model_selection import KFold\n",
        "from sklearn.model_selection import cross_val_score"
      ],
      "execution_count": 9,
      "outputs": []
    },
    {
      "cell_type": "markdown",
      "metadata": {
        "id": "Y-9AjQhxmw7M"
      },
      "source": [
        "### クロスバリデーション を実行する"
      ]
    },
    {
      "cell_type": "code",
      "metadata": {
        "id": "V6umGuN7m1yi",
        "outputId": "f18f8b6b-37a0-48e6-9b11-48a6d7df91f8",
        "colab": {
          "base_uri": "https://localhost:8080/"
        }
      },
      "source": [
        "# K分割交差検証用のインスタンスを生成する\n",
        "kfold_cv = KFold(n_splits=5,shuffle=True)\n",
        "# 　すでに生成してあるall_astimatorsのインスタンスをループさせて、クロスバリデーション を行う\n",
        "for(name,algorithm) in allAlgorithms:\n",
        "  try:\n",
        "    # 各アルゴリズムのインスタンスを取得\n",
        "    clf = algorithm()\n",
        "    #scoreの属性がある学習モデルだけに送る\n",
        "    if hasattr(clf,\"score\"):\n",
        "      scores = cross_val_score(clf,x,y,cv=kfold_cv)\n",
        "      #k=n splits=5回分のクロスバリデーション のスコアを表示\n",
        "      print(name,\"の正解率=\")\n",
        "      print(scores)\n",
        "      #ifブロック終了\n",
        "    #tryブロック終了\n",
        "  except : #例外処理のブロック\n",
        "  #except Exception e:\n",
        "  #print(e)\n",
        "    #何もしない\n",
        "    pass\n"
      ],
      "execution_count": 10,
      "outputs": [
        {
          "output_type": "stream",
          "text": [
            "AdaBoostClassifier の正解率=\n",
            "[0.96666667 0.96666667 0.93333333 0.9        0.93333333]\n",
            "BaggingClassifier の正解率=\n",
            "[1.         0.93333333 0.96666667 0.96666667 0.93333333]\n",
            "BernoulliNB の正解率=\n",
            "[0.26666667 0.33333333 0.26666667 0.3        0.2       ]\n",
            "CalibratedClassifierCV の正解率=\n",
            "[0.9        0.9        0.93333333 0.86666667 1.        ]\n",
            "ComplementNB の正解率=\n",
            "[0.7        0.6        0.7        0.7        0.63333333]\n",
            "DecisionTreeClassifier の正解率=\n",
            "[0.96666667 0.96666667 0.9        0.86666667 1.        ]\n",
            "ExtraTreeClassifier の正解率=\n",
            "[0.9        0.9        0.96666667 0.96666667 0.86666667]\n",
            "ExtraTreesClassifier の正解率=\n",
            "[0.96666667 0.93333333 0.9        0.93333333 0.96666667]\n",
            "GaussianNB の正解率=\n",
            "[0.96666667 0.96666667 1.         0.93333333 0.9       ]\n",
            "GaussianProcessClassifier の正解率=\n",
            "[0.9        1.         0.96666667 0.93333333 0.96666667]\n",
            "GradientBoostingClassifier の正解率=\n",
            "[0.96666667 0.93333333 0.86666667 1.         0.96666667]\n",
            "KNeighborsClassifier の正解率=\n",
            "[0.96666667 0.96666667 0.96666667 0.96666667 0.96666667]\n",
            "LabelPropagation の正解率=\n",
            "[0.96666667 1.         0.93333333 0.93333333 0.96666667]\n",
            "LabelSpreading の正解率=\n",
            "[0.96666667 0.96666667 1.         0.9        0.96666667]\n",
            "LinearDiscriminantAnalysis の正解率=\n",
            "[0.93333333 1.         0.96666667 1.         1.        ]\n",
            "LinearSVC の正解率=\n",
            "[0.96666667 0.96666667 0.96666667 0.96666667 0.96666667]\n",
            "LogisticRegression の正解率=\n",
            "[0.96666667 0.9        0.96666667 0.93333333 0.96666667]\n",
            "LogisticRegressionCV の正解率=\n",
            "[0.9        0.96666667 0.96666667 1.         0.93333333]\n",
            "MLPClassifier の正解率=\n",
            "[0.9        0.96666667 0.96666667 1.         0.93333333]\n",
            "MultinomialNB の正解率=\n",
            "[0.93333333 0.9        0.8        0.96666667 0.93333333]\n",
            "NearestCentroid の正解率=\n",
            "[0.9        0.9        0.93333333 0.96666667 0.93333333]\n",
            "NuSVC の正解率=\n",
            "[1.         0.96666667 0.93333333 1.         0.93333333]\n",
            "PassiveAggressiveClassifier の正解率=\n",
            "[0.6        1.         0.83333333 0.9        0.73333333]\n",
            "Perceptron の正解率=\n",
            "[0.6        0.66666667 0.33333333 0.56666667 0.63333333]\n",
            "QuadraticDiscriminantAnalysis の正解率=\n",
            "[1.         1.         0.96666667 1.         0.93333333]\n",
            "RadiusNeighborsClassifier の正解率=\n",
            "[0.93333333 0.86666667 1.         0.96666667 1.        ]\n",
            "RandomForestClassifier の正解率=\n",
            "[0.96666667 0.93333333 0.96666667 0.93333333 0.96666667]\n",
            "RidgeClassifier の正解率=\n",
            "[0.8        0.73333333 0.83333333 0.9        0.86666667]\n",
            "RidgeClassifierCV の正解率=\n",
            "[0.86666667 0.86666667 0.76666667 0.93333333 0.8       ]\n",
            "SGDClassifier の正解率=\n",
            "[0.73333333 0.73333333 0.83333333 0.66666667 0.46666667]\n",
            "SVC の正解率=\n",
            "[1.         0.93333333 1.         1.         0.96666667]\n"
          ],
          "name": "stdout"
        }
      ]
    },
    {
      "cell_type": "markdown",
      "metadata": {
        "id": "QC3IfokHrrxv"
      },
      "source": [
        "### おまけ: もっと詳しい結果を取得できるクロスバリデーション オブジェクト:cross_validate"
      ]
    },
    {
      "cell_type": "code",
      "metadata": {
        "id": "r8T6vZ_Dr3tj"
      },
      "source": [
        "# ライブラリのインポート\n",
        "from sklearn.model_selection import cross_validate"
      ],
      "execution_count": 11,
      "outputs": []
    },
    {
      "cell_type": "markdown",
      "metadata": {
        "id": "r5dwg0m6thrk"
      },
      "source": [
        "### cross_validateを使ったクロスバリデーション "
      ]
    },
    {
      "cell_type": "code",
      "metadata": {
        "id": "jk4tBWilsUU3",
        "outputId": "726eaf51-7771-4db3-aa47-92213cde05d3",
        "colab": {
          "base_uri": "https://localhost:8080/"
        }
      },
      "source": [
        "# K分割交差検証用のインスタンスを生成する\n",
        "kfold_cv = KFold(n_splits=5,shuffle=True)\n",
        "# 　すでに生成してあるall_astimatorsのインスタンスをループさせて、クロスバリデーション を行う\n",
        "for(name,algorithm) in allAlgorithms:\n",
        "  try:\n",
        "    # 各アルゴリズムのインスタンスを取得\n",
        "    clf = algorithm()\n",
        "    #scoreの属性がある学習モデルだけに送る\n",
        "    if hasattr(clf,\"score\"):\n",
        "      scores = cross_validate(clf,x,y,cv=kfold_cv)\n",
        "      #k=n splits=5回分のクロスバリデーション のスコアを表示\n",
        "      print(name,\"の正解率=\")\n",
        "      print(scores)\n",
        "      #ifブロック終了\n",
        "    #tryブロック終了\n",
        "  except : #例外処理のブロック\n",
        "    #何もしない\n",
        "    pass"
      ],
      "execution_count": 12,
      "outputs": [
        {
          "output_type": "stream",
          "text": [
            "AdaBoostClassifier の正解率=\n",
            "{'fit_time': array([0.06827021, 0.06305838, 0.06095505, 0.06067491, 0.0629313 ]), 'score_time': array([0.00579906, 0.00568843, 0.00660396, 0.0065608 , 0.00571918]), 'test_score': array([0.93333333, 0.93333333, 0.93333333, 0.8       , 1.        ]), 'train_score': array([0.96666667, 0.95      , 0.96666667, 0.98333333, 0.95      ])}\n",
            "BaggingClassifier の正解率=\n",
            "{'fit_time': array([0.01438928, 0.01327825, 0.01315498, 0.01310158, 0.01296353]), 'score_time': array([0.00175285, 0.00185919, 0.00171685, 0.00172305, 0.00170135]), 'test_score': array([0.96666667, 0.9       , 0.9       , 1.        , 0.96666667]), 'train_score': array([1.        , 0.99166667, 1.        , 1.        , 0.99166667])}\n",
            "BernoulliNB の正解率=\n",
            "{'fit_time': array([0.00307441, 0.00180054, 0.00178075, 0.0018599 , 0.00175261]), 'score_time': array([0.0009141 , 0.00081253, 0.00081563, 0.00087023, 0.00079346]), 'test_score': array([0.3       , 0.23333333, 0.2       , 0.26666667, 0.3       ]), 'train_score': array([0.34166667, 0.35833333, 0.36666667, 0.35      , 0.34166667])}\n",
            "CalibratedClassifierCV の正解率=\n",
            "{'fit_time': array([0.04079294, 0.03649998, 0.04285574, 0.04398608, 0.03902817]), 'score_time': array([0.00155973, 0.00148726, 0.0014472 , 0.00220752, 0.00155044]), 'test_score': array([0.93333333, 0.86666667, 0.96666667, 0.9       , 1.        ]), 'train_score': array([0.93333333, 0.93333333, 0.95      , 0.93333333, 0.93333333])}\n",
            "ComplementNB の正解率=\n",
            "{'fit_time': array([0.0031054 , 0.00177574, 0.00174546, 0.00171089, 0.00235343]), 'score_time': array([0.00090575, 0.0007596 , 0.00071692, 0.00071883, 0.00108504]), 'test_score': array([0.66666667, 0.6       , 0.7       , 0.73333333, 0.63333333]), 'train_score': array([0.66666667, 0.68333333, 0.65833333, 0.65      , 0.675     ])}\n",
            "DecisionTreeClassifier の正解率=\n",
            "{'fit_time': array([0.00236058, 0.00135422, 0.00135899, 0.00131226, 0.00129747]), 'score_time': array([0.00072527, 0.00066042, 0.00065422, 0.00063634, 0.0006392 ]), 'test_score': array([0.93333333, 0.9       , 0.96666667, 0.96666667, 0.93333333]), 'train_score': array([1., 1., 1., 1., 1.])}\n",
            "ExtraTreeClassifier の正解率=\n",
            "{'fit_time': array([0.0023582 , 0.00130415, 0.00124598, 0.00124145, 0.00124192]), 'score_time': array([0.00073028, 0.00069475, 0.0006423 , 0.00064945, 0.00062609]), 'test_score': array([0.96666667, 0.86666667, 0.96666667, 0.93333333, 0.96666667]), 'train_score': array([1., 1., 1., 1., 1.])}\n",
            "ExtraTreesClassifier の正解率=\n",
            "{'fit_time': array([0.01061845, 0.0094192 , 0.00919771, 0.00987959, 0.00906849]), 'score_time': array([0.00163078, 0.00157022, 0.00156903, 0.00156355, 0.00144219]), 'test_score': array([0.93333333, 1.        , 1.        , 0.93333333, 0.9       ]), 'train_score': array([1., 1., 1., 1., 1.])}\n",
            "GaussianNB の正解率=\n",
            "{'fit_time': array([0.00217867, 0.00218177, 0.00154138, 0.00151014, 0.00147462]), 'score_time': array([0.00198388, 0.00126362, 0.00076127, 0.00076914, 0.00077581]), 'test_score': array([0.9       , 0.9       , 0.96666667, 1.        , 1.        ]), 'train_score': array([0.975     , 0.96666667, 0.96666667, 0.95      , 0.95      ])}\n",
            "GaussianProcessClassifier の正解率=\n",
            "{'fit_time': array([0.0402298 , 0.04173613, 0.0341413 , 0.04009676, 0.03366137]), 'score_time': array([0.00511789, 0.00526714, 0.00512171, 0.01014709, 0.00515938]), 'test_score': array([0.96666667, 0.93333333, 0.9       , 1.        , 1.        ]), 'train_score': array([0.95833333, 0.98333333, 0.975     , 0.975     , 0.96666667])}\n",
            "GradientBoostingClassifier の正解率=\n",
            "{'fit_time': array([0.1831069 , 0.16362667, 0.15010357, 0.14104819, 0.14301467]), 'score_time': array([0.00141382, 0.00146556, 0.00142789, 0.00135541, 0.00154138]), 'test_score': array([0.93333333, 0.93333333, 0.96666667, 0.9       , 1.        ]), 'train_score': array([1., 1., 1., 1., 1.])}\n",
            "KNeighborsClassifier の正解率=\n",
            "{'fit_time': array([0.00232148, 0.00160146, 0.00151539, 0.00149488, 0.0015769 ]), 'score_time': array([0.00677967, 0.00220251, 0.00212359, 0.0020833 , 0.00214362]), 'test_score': array([0.96666667, 0.93333333, 0.93333333, 0.96666667, 1.        ]), 'train_score': array([0.975     , 0.98333333, 0.975     , 0.96666667, 0.96666667])}\n",
            "LabelPropagation の正解率=\n",
            "{'fit_time': array([0.00456786, 0.00295544, 0.00286674, 0.00281525, 0.00291991]), 'score_time': array([0.00178409, 0.00164652, 0.00160813, 0.00156307, 0.00171137]), 'test_score': array([0.93333333, 0.93333333, 0.93333333, 1.        , 1.        ]), 'train_score': array([1., 1., 1., 1., 1.])}\n",
            "LabelSpreading の正解率=\n",
            "{'fit_time': array([0.00359011, 0.0033679 , 0.00314283, 0.00329113, 0.00330377]), 'score_time': array([0.00163507, 0.00162077, 0.00156546, 0.00159407, 0.00164366]), 'test_score': array([0.93333333, 0.96666667, 0.96666667, 0.96666667, 0.93333333]), 'train_score': array([1., 1., 1., 1., 1.])}\n",
            "LinearDiscriminantAnalysis の正解率=\n",
            "{'fit_time': array([0.00299358, 0.00267243, 0.00266361, 0.00270104, 0.00270844]), 'score_time': array([0.00112391, 0.00099134, 0.0009656 , 0.00105095, 0.00100517]), 'test_score': array([0.96666667, 1.        , 0.96666667, 1.        , 0.93333333]), 'train_score': array([0.975     , 0.975     , 0.98333333, 0.975     , 0.99166667])}\n",
            "LinearSVC の正解率=\n",
            "{'fit_time': array([0.01323032, 0.01155615, 0.01131511, 0.01492381, 0.01140547]), 'score_time': array([0.00130844, 0.00124431, 0.00119424, 0.00147581, 0.00123882]), 'test_score': array([0.93333333, 0.96666667, 0.96666667, 0.86666667, 0.96666667]), 'train_score': array([0.975     , 0.95833333, 0.975     , 0.96666667, 0.96666667])}\n",
            "LogisticRegression の正解率=\n",
            "{'fit_time': array([0.00265837, 0.00174642, 0.00172758, 0.00170183, 0.00179911]), 'score_time': array([0.00101733, 0.00065923, 0.00067019, 0.00065923, 0.000664  ]), 'test_score': array([0.96666667, 0.93333333, 0.96666667, 0.96666667, 0.96666667]), 'train_score': array([0.95833333, 0.96666667, 0.95      , 0.95833333, 0.96666667])}\n",
            "LogisticRegressionCV の正解率=\n",
            "{'fit_time': array([0.31943655, 0.34561896, 0.35943222, 0.34868336, 0.34093738]), 'score_time': array([0.00092793, 0.00101089, 0.00093055, 0.00097108, 0.00094128]), 'test_score': array([0.96666667, 0.96666667, 0.9       , 0.76666667, 0.96666667]), 'train_score': array([0.975     , 0.98333333, 0.925     , 0.925     , 0.96666667])}\n",
            "MLPClassifier の正解率=\n",
            "{'fit_time': array([0.13245869, 0.13936949, 0.12990284, 0.13391924, 0.13634086]), 'score_time': array([0.0011878 , 0.00119543, 0.00122094, 0.00119257, 0.00118589]), 'test_score': array([1.        , 1.        , 1.        , 0.93333333, 0.96666667]), 'train_score': array([0.96666667, 0.98333333, 0.975     , 0.98333333, 0.99166667])}\n",
            "MultinomialNB の正解率=\n",
            "{'fit_time': array([0.00192475, 0.00176668, 0.00175524, 0.00194788, 0.0016911 ]), 'score_time': array([0.00082111, 0.00077844, 0.00079942, 0.00083375, 0.0007503 ]), 'test_score': array([0.53333333, 0.96666667, 0.56666667, 0.93333333, 0.96666667]), 'train_score': array([0.70833333, 0.95833333, 0.69166667, 0.975     , 0.96666667])}\n",
            "NearestCentroid の正解率=\n",
            "{'fit_time': array([0.0015738 , 0.00121593, 0.0011766 , 0.00118732, 0.00117731]), 'score_time': array([0.00162005, 0.00076175, 0.00077462, 0.00075197, 0.00075102]), 'test_score': array([1.        , 0.96666667, 0.93333333, 0.76666667, 0.9       ]), 'train_score': array([0.90833333, 0.925     , 0.93333333, 0.95833333, 0.925     ])}\n",
            "NuSVC の正解率=\n",
            "{'fit_time': array([0.00271297, 0.00221276, 0.00213265, 0.00209308, 0.00208068]), 'score_time': array([0.00078726, 0.0009439 , 0.00084066, 0.00079346, 0.0007906 ]), 'test_score': array([0.93333333, 0.96666667, 0.9       , 0.96666667, 0.93333333]), 'train_score': array([0.96666667, 0.96666667, 0.96666667, 0.96666667, 0.95      ])}\n",
            "PassiveAggressiveClassifier の正解率=\n",
            "{'fit_time': array([0.00282288, 0.00177073, 0.00188828, 0.00192118, 0.00200772]), 'score_time': array([0.00127411, 0.00072837, 0.00069928, 0.00066066, 0.00073504]), 'test_score': array([0.73333333, 0.6       , 0.83333333, 0.66666667, 0.8       ]), 'train_score': array([0.65833333, 0.68333333, 0.76666667, 0.7       , 0.78333333])}\n",
            "Perceptron の正解率=\n",
            "{'fit_time': array([0.00400019, 0.00250721, 0.00254512, 0.00253272, 0.00251603]), 'score_time': array([0.00081515, 0.00073624, 0.0007329 , 0.00071621, 0.00070429]), 'test_score': array([0.73333333, 1.        , 0.7       , 0.43333333, 0.36666667]), 'train_score': array([0.65      , 0.93333333, 0.65833333, 0.30833333, 0.35833333])}\n",
            "QuadraticDiscriminantAnalysis の正解率=\n",
            "{'fit_time': array([0.00335121, 0.00236583, 0.00226641, 0.00151443, 0.00157905]), 'score_time': array([0.00144529, 0.00122142, 0.00132966, 0.00092745, 0.00089669]), 'test_score': array([1.        , 0.96666667, 0.96666667, 0.96666667, 0.96666667]), 'train_score': array([0.975     , 0.98333333, 0.975     , 0.99166667, 0.99166667])}\n",
            "RadiusNeighborsClassifier の正解率=\n",
            "{'fit_time': array([0.00169683, 0.0015409 , 0.00152993, 0.00153685, 0.00163484]), 'score_time': array([0.00543618, 0.00440216, 0.00455856, 0.00684428, 0.00441408]), 'test_score': array([0.93333333, 0.93333333, 0.96666667, 0.96666667, 1.        ]), 'train_score': array([0.95      , 0.94166667, 0.96666667, 0.96666667, 0.96666667])}\n",
            "RandomForestClassifier の正解率=\n",
            "{'fit_time': array([0.01401448, 0.01247597, 0.01309729, 0.0123136 , 0.01238942]), 'score_time': array([0.00171494, 0.00154829, 0.00161362, 0.00179958, 0.00162458]), 'test_score': array([0.96666667, 0.96666667, 0.96666667, 0.9       , 0.93333333]), 'train_score': array([1.        , 1.        , 1.        , 1.        , 0.99166667])}\n",
            "RidgeClassifier の正解率=\n",
            "{'fit_time': array([0.00286269, 0.00268245, 0.00278902, 0.00266457, 0.00267148]), 'score_time': array([0.00078177, 0.00075936, 0.00075197, 0.00077009, 0.00074649]), 'test_score': array([0.83333333, 0.8       , 0.73333333, 0.86666667, 0.83333333]), 'train_score': array([0.85833333, 0.84166667, 0.89166667, 0.86666667, 0.85833333])}\n",
            "RidgeClassifierCV の正解率=\n",
            "{'fit_time': array([0.00506306, 0.0028789 , 0.00292134, 0.00288677, 0.00294733]), 'score_time': array([0.00081992, 0.00078154, 0.00078321, 0.00078177, 0.00079489]), 'test_score': array([0.73333333, 0.8       , 0.83333333, 0.86666667, 0.93333333]), 'train_score': array([0.875     , 0.85      , 0.85833333, 0.86666667, 0.84166667])}\n",
            "SGDClassifier の正解率=\n",
            "{'fit_time': array([0.0040772 , 0.00190043, 0.00200701, 0.00173926, 0.00179768]), 'score_time': array([0.00086403, 0.0007081 , 0.00068521, 0.00070119, 0.0007565 ]), 'test_score': array([0.6       , 0.86666667, 0.5       , 0.33333333, 0.63333333]), 'train_score': array([0.68333333, 0.88333333, 0.49166667, 0.34166667, 0.675     ])}\n",
            "SVC の正解率=\n",
            "{'fit_time': array([0.00244689, 0.00172448, 0.0016818 , 0.00161266, 0.00165129]), 'score_time': array([0.00083756, 0.00074816, 0.0007205 , 0.0007441 , 0.00070715]), 'test_score': array([1.        , 0.96666667, 1.        , 0.93333333, 0.93333333]), 'train_score': array([0.98333333, 0.975     , 0.98333333, 0.99166667, 0.99166667])}\n"
          ],
          "name": "stdout"
        }
      ]
    },
    {
      "cell_type": "markdown",
      "metadata": {
        "id": "yo4rEINn7ZMS"
      },
      "source": [
        "## グリッドサーチで最適なパラメータを探し求める"
      ]
    },
    {
      "cell_type": "markdown",
      "metadata": {
        "id": "TQDCWRmM7vOl"
      },
      "source": [
        "### ライブラリをimport"
      ]
    },
    {
      "cell_type": "code",
      "metadata": {
        "id": "unxPEuL070lf"
      },
      "source": [
        "# グリッドサーチ\n",
        "from sklearn.model_selection import GridSearchCV\n",
        "# SVCアルゴリズムの学習モデルをimport\n",
        "from sklearn.svm import SVC"
      ],
      "execution_count": 13,
      "outputs": []
    },
    {
      "cell_type": "markdown",
      "metadata": {
        "id": "DZJ__PO97_2B"
      },
      "source": [
        "### グリッドサーチを実行してパラメータを試す"
      ]
    },
    {
      "cell_type": "code",
      "metadata": {
        "id": "YAzNiSLQ8FBQ",
        "outputId": "539b0164-a5c9-46e2-fa3e-aefe8dff91ab",
        "colab": {
          "base_uri": "https://localhost:8080/"
        }
      },
      "source": [
        "# グリッドサーチを試すパラメ０他のパターンを指定する\n",
        "parameters = [\n",
        "              #３つのパラメータ、3パターン\n",
        "              {\"C\":[1,10,100,1000],\"kernel\":[\"linear\"]},\n",
        "              {\"C\":[1,10,100,1000],\"kernel\":[\"rbf\"],\"gamma\":[0.001,0.0001]},\n",
        "              {\"C\":[1,10,100,1000],\"kernel\":[\"sigmoid\"],\"gamma\":[0.001,0.0001]}\n",
        "              ]\n",
        "\n",
        "# K分割交差検証用のインスタンスを生成する\n",
        "kfold_cv = KFold(n_splits=5,shuffle=True)\n",
        "#普通の学習\n",
        "clf = SVC()\n",
        "clf.fit(x_train,y_train)\n",
        "y_pred = clf.predict(x_test)\n",
        "print(\"普通の学習の正解率 = \",accuracy_score(y_test,y_pred))\n",
        "\n",
        "#  グリッドサーチを行う\n",
        "# K分割交差検証用のインスタンスを生成する\n",
        "kfold_cv = KFold(n_splits=5,shuffle=True)\n",
        "# グリッドサーチの中でK分割交差検証も行われる\n",
        "clf_grid = GridSearchCV(SVC(),parameters,cv=kfold_cv) # インスタンス\n",
        "clf_grid.fit(x_train,y_train) #学習\n",
        "# 学習済みのもでるに最終的に設定された(最適と思われる)パラメータを表示\n",
        "print(\"最適なパラメータ = \",clf_grid.best_estimator_)\n",
        "\n",
        "#　最適なパラメータを表示\n",
        "y_pred = clf_grid.predict(x_test)\n",
        "print(\"グリッドサーチの正解率=\",accuracy_score(y_pred,y_test))"
      ],
      "execution_count": 14,
      "outputs": [
        {
          "output_type": "stream",
          "text": [
            "普通の学習の正解率 =  1.0\n",
            "最適なパラメータ =  SVC(C=1, cache_size=200, class_weight=None, coef0=0.0,\n",
            "  decision_function_shape='ovr', degree=3, gamma='auto_deprecated',\n",
            "  kernel='linear', max_iter=-1, probability=False, random_state=None,\n",
            "  shrinking=True, tol=0.001, verbose=False)\n",
            "グリッドサーチの正解率= 1.0\n"
          ],
          "name": "stdout"
        }
      ]
    },
    {
      "cell_type": "markdown",
      "metadata": {
        "id": "vDXNHHedFEV7"
      },
      "source": [
        "### Numpyの動作確認"
      ]
    },
    {
      "cell_type": "code",
      "metadata": {
        "id": "Gn6FBaNFFJY2"
      },
      "source": [
        "import numpy as np"
      ],
      "execution_count": 15,
      "outputs": []
    },
    {
      "cell_type": "code",
      "metadata": {
        "id": "3sTnF3f_FM_w",
        "outputId": "186cdd67-cbf5-49ba-bbf1-b6a36ee22057",
        "colab": {
          "base_uri": "https://localhost:8080/"
        }
      },
      "source": [
        "# numpy配列の初期化\n",
        "a = np.array([1,2,3,4,5]) # ndarrayという配列オブジェクトを生成\n",
        "print(a)\n",
        "#型を表示\n",
        "print(type(a))"
      ],
      "execution_count": 16,
      "outputs": [
        {
          "output_type": "stream",
          "text": [
            "[1 2 3 4 5]\n",
            "<class 'numpy.ndarray'>\n"
          ],
          "name": "stdout"
        }
      ]
    },
    {
      "cell_type": "code",
      "metadata": {
        "id": "gVXGHLZYFw5j",
        "outputId": "d6836bbe-7052-471a-9277-650372965cdd",
        "colab": {
          "base_uri": "https://localhost:8080/"
        }
      },
      "source": [
        "# ２次元のndarrayを定義\n",
        "b = np.array([[1,2,3],[4,5,6]])\n",
        "print(b)"
      ],
      "execution_count": 17,
      "outputs": [
        {
          "output_type": "stream",
          "text": [
            "[[1 2 3]\n",
            " [4 5 6]]\n"
          ],
          "name": "stdout"
        }
      ]
    },
    {
      "cell_type": "code",
      "metadata": {
        "id": "Gii7xPHBGCfF",
        "outputId": "d6df8302-a56c-4ed4-eee9-87ec2fff9766",
        "colab": {
          "base_uri": "https://localhost:8080/"
        }
      },
      "source": [
        "# 配列の要素数を指定して0で初期化\n",
        "print(np.zeros(10))\n",
        "print(np.zeros((3,2)))\n",
        "print(np.ones(2))"
      ],
      "execution_count": 18,
      "outputs": [
        {
          "output_type": "stream",
          "text": [
            "[0. 0. 0. 0. 0. 0. 0. 0. 0. 0.]\n",
            "[[0. 0.]\n",
            " [0. 0.]\n",
            " [0. 0.]]\n",
            "[1. 1.]\n"
          ],
          "name": "stdout"
        }
      ]
    },
    {
      "cell_type": "code",
      "metadata": {
        "id": "BcnPpDTXGO4O",
        "outputId": "09d973ba-9eb7-4fb8-ae8e-54cb92b062eb",
        "colab": {
          "base_uri": "https://localhost:8080/"
        }
      },
      "source": [
        "# 連番の配列を要素数を指定して初期化\n",
        "print(np.arange(5))\n",
        "print(np.arange(2,9))\n",
        "print(np.arange(5,8,0.5))"
      ],
      "execution_count": 19,
      "outputs": [
        {
          "output_type": "stream",
          "text": [
            "[0 1 2 3 4]\n",
            "[2 3 4 5 6 7 8]\n",
            "[5.  5.5 6.  6.5 7.  7.5]\n"
          ],
          "name": "stdout"
        }
      ]
    },
    {
      "cell_type": "markdown",
      "metadata": {
        "id": "YuaulXkYHviR"
      },
      "source": [
        "### numpyで行列計算"
      ]
    },
    {
      "cell_type": "code",
      "metadata": {
        "id": "1tlInZLPGFnY",
        "outputId": "ee15b729-e122-4a1e-86a3-41c7e3a90793",
        "colab": {
          "base_uri": "https://localhost:8080/"
        }
      },
      "source": [
        "# numpyで行列計算\n",
        "a = np.array([1,2,3,4,5])\n",
        "b = a*2\n",
        "print(b)\n",
        "x = np.arange(10)\n",
        "print(x)\n",
        "y = 3*x + 5\n",
        "print(y)"
      ],
      "execution_count": 20,
      "outputs": [
        {
          "output_type": "stream",
          "text": [
            "[ 2  4  6  8 10]\n",
            "[0 1 2 3 4 5 6 7 8 9]\n",
            "[ 5  8 11 14 17 20 23 26 29 32]\n"
          ],
          "name": "stdout"
        }
      ]
    },
    {
      "cell_type": "code",
      "metadata": {
        "id": "nPvk5KioHxzB",
        "outputId": "afc94145-ae8e-4a04-86e4-7701bcdbdd02",
        "colab": {
          "base_uri": "https://localhost:8080/"
        }
      },
      "source": [
        "a = np.array([[1,2,3],[4,5,6]])\n",
        "print(a)\n",
        "print(a.shape)\n",
        "\n",
        "b = np.array([[1,2,3],[4,5,6],[7,8,9]])\n",
        "print(b)\n",
        "print(b.shape)"
      ],
      "execution_count": 29,
      "outputs": [
        {
          "output_type": "stream",
          "text": [
            "[[1 2 3]\n",
            " [4 5 6]]\n",
            "(2, 3)\n",
            "[[1 2 3]\n",
            " [4 5 6]\n",
            " [7 8 9]]\n",
            "(3, 3)\n"
          ],
          "name": "stdout"
        }
      ]
    },
    {
      "cell_type": "code",
      "metadata": {
        "id": "RjCIWZTfGuRz",
        "outputId": "d3f1add3-3508-4911-a5a3-d6a9bdd3d68f",
        "colab": {
          "base_uri": "https://localhost:8080/"
        }
      },
      "source": [
        "# Numpy配列で次元数を変換する\n",
        "a = np.array([[1,2,3],[4,5,6]])\n",
        "print(\"a=\", a)\n",
        "b = a.flatten()\n",
        "print(\"b=\", b)\n",
        "\n",
        "a = np.array([[1,2,3],[4,5,6]])\n",
        "print(a)\n",
        "b = a.reshape(3,2)\n",
        "print(b)"
      ],
      "execution_count": 26,
      "outputs": [
        {
          "output_type": "stream",
          "text": [
            "a= [[1 2 3]\n",
            " [4 5 6]]\n",
            "b= [1 2 3 4 5 6]\n",
            "[[1 2 3]\n",
            " [4 5 6]]\n",
            "[[1 2]\n",
            " [3 4]\n",
            " [5 6]]\n"
          ],
          "name": "stdout"
        }
      ]
    },
    {
      "cell_type": "markdown",
      "metadata": {
        "id": "cOGuAM4pHBAA"
      },
      "source": [
        "### numpyの配列にアクセスする方法"
      ]
    },
    {
      "cell_type": "code",
      "metadata": {
        "id": "wUMgoMloHFaW",
        "outputId": "6d120062-6830-4994-8a13-ebe052320afa",
        "colab": {
          "base_uri": "https://localhost:8080/"
        }
      },
      "source": [
        "v = np.array([[1,2,3],[4,5,6],[7,8,9]])\n",
        "a = v[0]\n",
        "print(a) # 二次元配列の０行目\n",
        "b = v[1:] #  一列目いこう\n",
        "print(b)\n",
        "c = v[:,0]\n",
        "print(c)"
      ],
      "execution_count": 27,
      "outputs": [
        {
          "output_type": "stream",
          "text": [
            "[1 2 3]\n",
            "[[4 5 6]\n",
            " [7 8 9]]\n",
            "[1 4 7]\n"
          ],
          "name": "stdout"
        }
      ]
    },
    {
      "cell_type": "code",
      "metadata": {
        "id": "egF4kSh7HIMd"
      },
      "source": [
        ""
      ],
      "execution_count": null,
      "outputs": []
    }
  ]
}