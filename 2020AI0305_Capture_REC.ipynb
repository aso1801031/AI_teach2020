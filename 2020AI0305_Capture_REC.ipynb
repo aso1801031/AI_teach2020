{
  "nbformat": 4,
  "nbformat_minor": 0,
  "metadata": {
    "colab": {
      "name": "2020AI0305-Capture-REC.ipynb",
      "provenance": [],
      "collapsed_sections": [],
      "authorship_tag": "ABX9TyNrR6bgHmdQtgLXh26vS0Cc",
      "include_colab_link": true
    },
    "kernelspec": {
      "name": "python3",
      "display_name": "Python 3"
    }
  },
  "cells": [
    {
      "cell_type": "markdown",
      "metadata": {
        "id": "view-in-github",
        "colab_type": "text"
      },
      "source": [
        "<a href=\"https://colab.research.google.com/github/aso1801031/AI_teach2020/blob/master/2020AI0305_Capture_REC.ipynb\" target=\"_parent\"><img src=\"https://colab.research.google.com/assets/colab-badge.svg\" alt=\"Open In Colab\"/></a>"
      ]
    },
    {
      "cell_type": "markdown",
      "metadata": {
        "id": "tKVZ8HbiMLTC"
      },
      "source": [
        "###  カメラや動画ファイルからのキャプチャ内容を加工して録画する"
      ]
    },
    {
      "cell_type": "markdown",
      "metadata": {
        "id": "XZaPKx3KMYtS"
      },
      "source": [
        "### ライブラリのダウンロード\n"
      ]
    },
    {
      "cell_type": "code",
      "metadata": {
        "id": "346VJ4EgMamx"
      },
      "source": [
        "import cv2, os\n",
        "import urllib.request as req"
      ],
      "execution_count": null,
      "outputs": []
    },
    {
      "cell_type": "markdown",
      "metadata": {
        "id": "_L-t2mOSMm8Q"
      },
      "source": [
        "### 動画ファイルのダウンロード\n"
      ]
    },
    {
      "cell_type": "code",
      "metadata": {
        "colab": {
          "base_uri": "https://localhost:8080/"
        },
        "id": "boa3j5gYM9l7",
        "outputId": "0a891458-80b0-4fdf-8811-1d3342d0204d"
      },
      "source": [
        "url = \"https://github.com/masatokg/sample_photo/raw/master/fish.mp4\"\n",
        "save_file = \"fish.mp4\"\n",
        "req.urlretrieve(url, save_file)"
      ],
      "execution_count": null,
      "outputs": [
        {
          "output_type": "execute_result",
          "data": {
            "text/plain": [
              "('fish.mp4', <http.client.HTTPMessage at 0x7fb0b0760be0>)"
            ]
          },
          "metadata": {
            "tags": []
          },
          "execution_count": 12
        }
      ]
    },
    {
      "cell_type": "markdown",
      "metadata": {
        "id": "4LthHKHINSOX"
      },
      "source": [
        "### キャプチャ処理用の定義"
      ]
    },
    {
      "cell_type": "code",
      "metadata": {
        "id": "natV0NmvNUe5"
      },
      "source": [
        "# 保存ファイル名\n",
        "out_file = \"out.mp4\"\n",
        "# キャプチャソースを指定してキャプチャインスタンスを取得\n",
        "# 　Webカメラの場合、０動画ファイルの場合、ファイルパス\n",
        "cap = cv2.VideoCapture( save_file )\n",
        "# 動画フォーマット（mp4ビデオ）を指定すｒインスタンスを取得\n",
        "fourcc = cv2.VideoWriter_fourcc(\"M\",\"P\",\"4\",\"V\")\n",
        "# フレームレート（fps）を指定\n",
        "fps = 30.0"
      ],
      "execution_count": null,
      "outputs": []
    },
    {
      "cell_type": "markdown",
      "metadata": {
        "id": "-8IG74ylOISA"
      },
      "source": [
        "### キャプチャしたフレームの加工処理用関数"
      ]
    },
    {
      "cell_type": "code",
      "metadata": {
        "id": "0jQFWlpxONbO"
      },
      "source": [
        "# フレームを引数で受け取り、加工して戻り値で返す\n",
        "def process_img( frame ):\n",
        "\n",
        "  # 加工処理\n",
        "  # BGR農地、BGを０にしてRの光だけにする\n",
        "  frame[ :, :, 0 ] = 0 #B\n",
        "  frame[ :, :, 1 ] = 0 #G\n",
        "\n",
        "  return frame"
      ],
      "execution_count": null,
      "outputs": []
    },
    {
      "cell_type": "markdown",
      "metadata": {
        "id": "TvaiPRW6Otcf"
      },
      "source": [
        "### フレームを受け取り、そのフレームサイズでキャプチャ画像を録画するためのレコーダーを定義して戻り値で返す関数"
      ]
    },
    {
      "cell_type": "code",
      "metadata": {
        "id": "x-g4vNClO1jJ"
      },
      "source": [
        "def open_recorder( frame ):\n",
        "  h = len( frame ) # フレームの高さ（Numpy二次元配列の行数）\n",
        "  w = len( frame ) # フレームの幅（Numpy二次元配列の行数）\n",
        "  size = (w, h) # フレーム画像サイズをタプル変数で定義\n",
        "  # レコーダーのインスタンスを生成\n",
        "  recorder = cv2.VideoWriter( out_file, fourcc, fps, size, isColor=True )\n",
        "  return recorder"
      ],
      "execution_count": null,
      "outputs": []
    },
    {
      "cell_type": "markdown",
      "metadata": {
        "id": "3CeE4ooQPpaE"
      },
      "source": [
        "### キャプチャの読み込み処理を実行"
      ]
    },
    {
      "cell_type": "code",
      "metadata": {
        "colab": {
          "base_uri": "https://localhost:8080/"
        },
        "id": "MoIsFo95PjGQ",
        "outputId": "706eb6c2-be76-490c-ef3a-f59927f6beab"
      },
      "source": [
        "# 1フレーム読み込み\n",
        "is_ok, frame = cap.read()\n",
        "# 成功なら、そのフレームを録画するためのレコーダーを開く\n",
        "if is_ok:\n",
        "  print( \"1 frame has read.\" )\n",
        "  # そのフレームを録画するレコーダーを開く自作関数\n",
        "  recorder = open_recorder( frame )\n",
        "  # 読み込みフレームがなくなるまで１フレームごと無限ループ\n",
        "  while True:\n",
        "    # 読み込んだ１フレームを加工する自作関数\n",
        "    frame = process_img( frame )\n",
        "    # 加工した１フレームをレコーダーに書き込む\n",
        "    recorder.write( frame )\n",
        "    # 次の１フレームを読み込む\n",
        "    is_ok, frame = cap.read()\n",
        "    # 読み込むフレームがなかったら、無限ループをbreak\n",
        "    if is_ok is not True:\n",
        "      break\n",
        "    # if文終了\n",
        "  # while文終了\n",
        "else:\n",
        "  print(\"there is no frame.\")\n",
        "# if 文終了"
      ],
      "execution_count": null,
      "outputs": [
        {
          "output_type": "stream",
          "text": [
            "1 frame has read.\n"
          ],
          "name": "stdout"
        }
      ]
    },
    {
      "cell_type": "markdown",
      "metadata": {
        "id": "cb_EOkjNRfSM"
      },
      "source": [
        "###  後処理とダウンロード"
      ]
    },
    {
      "cell_type": "code",
      "metadata": {
        "colab": {
          "base_uri": "https://localhost:8080/",
          "height": 34
        },
        "id": "1NyPMmABRiSX",
        "outputId": "74c3c927-2d69-4098-e6fb-9ef54a95484a"
      },
      "source": [
        "# レコーダー開放\n",
        "recorder.release()\n",
        "# キャプチャの開放\n",
        "cap.release()\n",
        "# メッセージ\n",
        "print(\"capture and recording end.\")\n",
        "# 出力mp4ファイルのダウンロード処理\n",
        "from google.colab import files\n",
        "files.download( out_file )"
      ],
      "execution_count": null,
      "outputs": [
        {
          "output_type": "stream",
          "text": [
            "capture and recording end.\n"
          ],
          "name": "stdout"
        },
        {
          "output_type": "display_data",
          "data": {
            "application/javascript": [
              "\n",
              "    async function download(id, filename, size) {\n",
              "      if (!google.colab.kernel.accessAllowed) {\n",
              "        return;\n",
              "      }\n",
              "      const div = document.createElement('div');\n",
              "      const label = document.createElement('label');\n",
              "      label.textContent = `Downloading \"${filename}\": `;\n",
              "      div.appendChild(label);\n",
              "      const progress = document.createElement('progress');\n",
              "      progress.max = size;\n",
              "      div.appendChild(progress);\n",
              "      document.body.appendChild(div);\n",
              "\n",
              "      const buffers = [];\n",
              "      let downloaded = 0;\n",
              "\n",
              "      const channel = await google.colab.kernel.comms.open(id);\n",
              "      // Send a message to notify the kernel that we're ready.\n",
              "      channel.send({})\n",
              "\n",
              "      for await (const message of channel.messages) {\n",
              "        // Send a message to notify the kernel that we're ready.\n",
              "        channel.send({})\n",
              "        if (message.buffers) {\n",
              "          for (const buffer of message.buffers) {\n",
              "            buffers.push(buffer);\n",
              "            downloaded += buffer.byteLength;\n",
              "            progress.value = downloaded;\n",
              "          }\n",
              "        }\n",
              "      }\n",
              "      const blob = new Blob(buffers, {type: 'application/binary'});\n",
              "      const a = document.createElement('a');\n",
              "      a.href = window.URL.createObjectURL(blob);\n",
              "      a.download = filename;\n",
              "      div.appendChild(a);\n",
              "      a.click();\n",
              "      div.remove();\n",
              "    }\n",
              "  "
            ],
            "text/plain": [
              "<IPython.core.display.Javascript object>"
            ]
          },
          "metadata": {
            "tags": []
          }
        },
        {
          "output_type": "display_data",
          "data": {
            "application/javascript": [
              "download(\"download_286da0d6-625b-4c94-bffd-9f42b6757fb2\", \"out.mp4\", 258)"
            ],
            "text/plain": [
              "<IPython.core.display.Javascript object>"
            ]
          },
          "metadata": {
            "tags": []
          }
        }
      ]
    },
    {
      "cell_type": "code",
      "metadata": {
        "id": "MVN0WsatSNe1"
      },
      "source": [
        ""
      ],
      "execution_count": null,
      "outputs": []
    }
  ]
}